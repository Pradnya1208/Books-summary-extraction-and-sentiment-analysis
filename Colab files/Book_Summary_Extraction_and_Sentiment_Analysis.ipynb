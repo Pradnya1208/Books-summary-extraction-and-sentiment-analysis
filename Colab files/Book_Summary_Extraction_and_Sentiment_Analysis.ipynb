{
  "nbformat": 4,
  "nbformat_minor": 0,
  "metadata": {
    "colab": {
      "name": "Book Summary Extraction and Sentiment Analysis.ipynb",
      "provenance": [],
      "authorship_tag": "ABX9TyNBqrF+p/dOWj5zapVmNpNx",
      "include_colab_link": true
    },
    "kernelspec": {
      "name": "python3",
      "display_name": "Python 3"
    },
    "language_info": {
      "name": "python"
    }
  },
  "cells": [
    {
      "cell_type": "markdown",
      "metadata": {
        "id": "view-in-github",
        "colab_type": "text"
      },
      "source": [
        "<a href=\"https://colab.research.google.com/github/Pradnya1208/Books-summary-extraction-and-sentiment-analysis/blob/main/Colab%20files/Book_Summary_Extraction_and_Sentiment_Analysis.ipynb\" target=\"_parent\"><img src=\"https://colab.research.google.com/assets/colab-badge.svg\" alt=\"Open In Colab\"/></a>"
      ]
    },
    {
      "cell_type": "code",
      "source": [
        "!pip install streamlit --quiet\n",
        "!pip install pyngrok==4.1.1 --quiet\n",
        "from pyngrok import ngrok"
      ],
      "metadata": {
        "colab": {
          "base_uri": "https://localhost:8080/"
        },
        "id": "BOyivGsQ_WK7",
        "outputId": "aa7189d8-f7cb-4c39-e1fe-cdb3f8398701"
      },
      "execution_count": 5,
      "outputs": [
        {
          "output_type": "stream",
          "name": "stdout",
          "text": [
            "  Building wheel for pyngrok (setup.py) ... \u001b[?25l\u001b[?25hdone\n"
          ]
        }
      ]
    },
    {
      "cell_type": "code",
      "source": [
        "!pip install NRCLex"
      ],
      "metadata": {
        "colab": {
          "base_uri": "https://localhost:8080/"
        },
        "id": "diaF1JWK_yFm",
        "outputId": "d879dec0-3cf4-4112-9adc-403b689882a3"
      },
      "execution_count": 6,
      "outputs": [
        {
          "output_type": "stream",
          "name": "stdout",
          "text": [
            "Collecting NRCLex\n",
            "  Downloading NRCLex-3.0.0.tar.gz (396 kB)\n",
            "\u001b[?25l\r\u001b[K     |▉                               | 10 kB 14.7 MB/s eta 0:00:01\r\u001b[K     |█▋                              | 20 kB 13.9 MB/s eta 0:00:01\r\u001b[K     |██▌                             | 30 kB 9.5 MB/s eta 0:00:01\r\u001b[K     |███▎                            | 40 kB 3.8 MB/s eta 0:00:01\r\u001b[K     |████▏                           | 51 kB 3.8 MB/s eta 0:00:01\r\u001b[K     |█████                           | 61 kB 4.5 MB/s eta 0:00:01\r\u001b[K     |█████▉                          | 71 kB 4.7 MB/s eta 0:00:01\r\u001b[K     |██████▋                         | 81 kB 5.0 MB/s eta 0:00:01\r\u001b[K     |███████▍                        | 92 kB 5.5 MB/s eta 0:00:01\r\u001b[K     |████████▎                       | 102 kB 4.4 MB/s eta 0:00:01\r\u001b[K     |█████████                       | 112 kB 4.4 MB/s eta 0:00:01\r\u001b[K     |██████████                      | 122 kB 4.4 MB/s eta 0:00:01\r\u001b[K     |██████████▊                     | 133 kB 4.4 MB/s eta 0:00:01\r\u001b[K     |███████████▋                    | 143 kB 4.4 MB/s eta 0:00:01\r\u001b[K     |████████████▍                   | 153 kB 4.4 MB/s eta 0:00:01\r\u001b[K     |█████████████▎                  | 163 kB 4.4 MB/s eta 0:00:01\r\u001b[K     |██████████████                  | 174 kB 4.4 MB/s eta 0:00:01\r\u001b[K     |██████████████▉                 | 184 kB 4.4 MB/s eta 0:00:01\r\u001b[K     |███████████████▊                | 194 kB 4.4 MB/s eta 0:00:01\r\u001b[K     |████████████████▌               | 204 kB 4.4 MB/s eta 0:00:01\r\u001b[K     |█████████████████▍              | 215 kB 4.4 MB/s eta 0:00:01\r\u001b[K     |██████████████████▏             | 225 kB 4.4 MB/s eta 0:00:01\r\u001b[K     |███████████████████             | 235 kB 4.4 MB/s eta 0:00:01\r\u001b[K     |███████████████████▉            | 245 kB 4.4 MB/s eta 0:00:01\r\u001b[K     |████████████████████▊           | 256 kB 4.4 MB/s eta 0:00:01\r\u001b[K     |█████████████████████▌          | 266 kB 4.4 MB/s eta 0:00:01\r\u001b[K     |██████████████████████▎         | 276 kB 4.4 MB/s eta 0:00:01\r\u001b[K     |███████████████████████▏        | 286 kB 4.4 MB/s eta 0:00:01\r\u001b[K     |████████████████████████        | 296 kB 4.4 MB/s eta 0:00:01\r\u001b[K     |████████████████████████▉       | 307 kB 4.4 MB/s eta 0:00:01\r\u001b[K     |█████████████████████████▋      | 317 kB 4.4 MB/s eta 0:00:01\r\u001b[K     |██████████████████████████▌     | 327 kB 4.4 MB/s eta 0:00:01\r\u001b[K     |███████████████████████████▎    | 337 kB 4.4 MB/s eta 0:00:01\r\u001b[K     |████████████████████████████    | 348 kB 4.4 MB/s eta 0:00:01\r\u001b[K     |█████████████████████████████   | 358 kB 4.4 MB/s eta 0:00:01\r\u001b[K     |█████████████████████████████▊  | 368 kB 4.4 MB/s eta 0:00:01\r\u001b[K     |██████████████████████████████▋ | 378 kB 4.4 MB/s eta 0:00:01\r\u001b[K     |███████████████████████████████▍| 389 kB 4.4 MB/s eta 0:00:01\r\u001b[K     |████████████████████████████████| 396 kB 4.4 MB/s \n",
            "\u001b[?25hRequirement already satisfied: textblob in /usr/local/lib/python3.7/dist-packages (from NRCLex) (0.15.3)\n",
            "Requirement already satisfied: nltk>=3.1 in /usr/local/lib/python3.7/dist-packages (from textblob->NRCLex) (3.2.5)\n",
            "Requirement already satisfied: six in /usr/local/lib/python3.7/dist-packages (from nltk>=3.1->textblob->NRCLex) (1.15.0)\n",
            "Building wheels for collected packages: NRCLex\n",
            "  Building wheel for NRCLex (setup.py) ... \u001b[?25l\u001b[?25hdone\n",
            "  Created wheel for NRCLex: filename=NRCLex-3.0.0-py3-none-any.whl size=43329 sha256=283f772c522c5c23895b50aaf482200aceb04c877d9c08fb3ee0051434dc42e0\n",
            "  Stored in directory: /root/.cache/pip/wheels/af/2c/9c/dfa19d1b65326c520b32850a9311f6d4eda679ac04dba26081\n",
            "Successfully built NRCLex\n",
            "Installing collected packages: NRCLex\n",
            "Successfully installed NRCLex-3.0.0\n"
          ]
        }
      ]
    },
    {
      "cell_type": "code",
      "source": [
        "pip freeze > requirements.txt"
      ],
      "metadata": {
        "id": "Nj3I99cXDYi_"
      },
      "execution_count": 20,
      "outputs": []
    },
    {
      "cell_type": "code",
      "execution_count": 18,
      "metadata": {
        "colab": {
          "base_uri": "https://localhost:8080/"
        },
        "id": "vlk43lXA-crV",
        "outputId": "5056b191-c991-4120-94f8-2645d0384501"
      },
      "outputs": [
        {
          "output_type": "stream",
          "name": "stdout",
          "text": [
            "Overwriting app.py\n"
          ]
        }
      ],
      "source": [
        "%%writefile app.py\n",
        "#from tracemalloc import stop\n",
        "import pandas as pd\n",
        "import numpy as np\n",
        "import streamlit as st\n",
        "from bs4 import BeautifulSoup as bs\n",
        "import requests\n",
        "\n",
        "import data_explorer\n",
        "import sentiment_analyzer\n",
        "import streamlit as st\n",
        "\n",
        "st.set_page_config(layout=\"wide\")\n",
        "\n",
        "st.markdown(\"<h1 style='text-align: center; color: black;'>Summary Extraction and Sentiment Analysis</h1>\", unsafe_allow_html=True)\n",
        "\n",
        "PAGES = {\n",
        "    \"Sentiment Analysis\": sentiment_analyzer,\n",
        "    \"Data Exploration\": data_explorer\n",
        "    \n",
        "}\n",
        "#st.sidebar.title('Navigation')\n",
        "selection = st.sidebar.radio(\"Go to\", list(PAGES.keys()))\n",
        "page = PAGES[selection]\n",
        "page.sentiment_wrapper()\n",
        "\n",
        "\n",
        "\n",
        "\n",
        "\n",
        "\n",
        "\n",
        "\n",
        "\n",
        "\n",
        "\n"
      ]
    },
    {
      "cell_type": "code",
      "source": [
        "ngrok.set_auth_token(\"26lvckkeojDihziqJj00lMXnmcj_2wM7NMsyo2uwc5yqQs1m9\")"
      ],
      "metadata": {
        "id": "Tc8tlUdM_SgS"
      },
      "execution_count": 15,
      "outputs": []
    },
    {
      "cell_type": "code",
      "source": [
        "!streamlit run app.py &>/dev/null&\n",
        "from pyngrok import ngrok\n",
        "\n",
        "url = ngrok.connect(port = '8501')\n",
        "print(url)"
      ],
      "metadata": {
        "colab": {
          "base_uri": "https://localhost:8080/"
        },
        "id": "oua89gt9AWoJ",
        "outputId": "db61dd30-633f-4097-86d7-c12dbbf9a99c"
      },
      "execution_count": 16,
      "outputs": [
        {
          "output_type": "stream",
          "name": "stderr",
          "text": [
            "2022-04-05 09:16:26.185 INFO    pyngrok.process: ngrok process starting: 393\n",
            "2022-04-05 09:16:26.208 INFO    pyngrok.process: t=2022-04-05T09:16:26+0000 lvl=info msg=\"no configuration paths supplied\"\n",
            "\n",
            "2022-04-05 09:16:26.214 INFO    pyngrok.process: t=2022-04-05T09:16:26+0000 lvl=info msg=\"using configuration at default config path\" path=/root/.ngrok2/ngrok.yml\n",
            "\n",
            "2022-04-05 09:16:26.222 INFO    pyngrok.process: t=2022-04-05T09:16:26+0000 lvl=info msg=\"open config file\" path=/root/.ngrok2/ngrok.yml err=nil\n",
            "\n",
            "2022-04-05 09:16:26.231 INFO    pyngrok.process: t=2022-04-05T09:16:26+0000 lvl=info msg=\"starting web service\" obj=web addr=127.0.0.1:4040\n",
            "\n",
            "2022-04-05 09:16:26.848 INFO    pyngrok.process: t=2022-04-05T09:16:26+0000 lvl=info msg=\"tunnel session started\" obj=tunnels.session\n",
            "\n",
            "2022-04-05 09:16:26.852 INFO    pyngrok.process: t=2022-04-05T09:16:26+0000 lvl=info msg=\"client session established\" obj=csess id=bcb79b1890b0\n",
            "\n",
            "2022-04-05 09:16:26.866 INFO    pyngrok.process: ngrok process has started: http://127.0.0.1:4040\n",
            "2022-04-05 09:16:26.877 INFO    pyngrok.process: t=2022-04-05T09:16:26+0000 lvl=info msg=start pg=/api/tunnels id=393a70fd681815a8\n",
            "\n",
            "2022-04-05 09:16:26.880 INFO    pyngrok.process: t=2022-04-05T09:16:26+0000 lvl=info msg=end pg=/api/tunnels id=393a70fd681815a8 status=200 dur=5.47294ms\n",
            "\n",
            "2022-04-05 09:16:26.883 INFO    pyngrok.process: t=2022-04-05T09:16:26+0000 lvl=info msg=start pg=/api/tunnels id=88b79940e926dd63\n",
            "\n",
            "2022-04-05 09:16:26.893 INFO    pyngrok.process: t=2022-04-05T09:16:26+0000 lvl=info msg=end pg=/api/tunnels id=88b79940e926dd63 status=200 dur=158.978µs\n",
            "\n",
            "2022-04-05 09:16:26.898 INFO    pyngrok.process: t=2022-04-05T09:16:26+0000 lvl=info msg=start pg=/api/tunnels id=e424611ac98286df\n",
            "\n",
            "2022-04-05 09:16:27.320 INFO    pyngrok.process: t=2022-04-05T09:16:27+0000 lvl=info msg=\"started tunnel\" obj=tunnels name=\"http-8501-bf668321-e95a-439b-8970-519c86a51c04 (http)\" addr=http://localhost:8501 url=http://d2dd-35-185-136-38.ngrok.io\n",
            "\n"
          ]
        },
        {
          "output_type": "stream",
          "name": "stdout",
          "text": [
            "http://d2dd-35-185-136-38.ngrok.io\n"
          ]
        },
        {
          "output_type": "stream",
          "name": "stderr",
          "text": [
            "2022-04-05 09:16:27.328 INFO    pyngrok.process: t=2022-04-05T09:16:27+0000 lvl=info msg=\"started tunnel\" obj=tunnels name=http-8501-bf668321-e95a-439b-8970-519c86a51c04 addr=http://localhost:8501 url=https://d2dd-35-185-136-38.ngrok.io\n",
            "\n",
            "2022-04-05 09:16:27.336 INFO    pyngrok.process: t=2022-04-05T09:16:27+0000 lvl=info msg=end pg=/api/tunnels id=e424611ac98286df status=201 dur=426.51992ms\n",
            "\n"
          ]
        }
      ]
    },
    {
      "cell_type": "code",
      "source": [
        "#!pgrep streamlit\n",
        "ngrok.kill()"
      ],
      "metadata": {
        "colab": {
          "base_uri": "https://localhost:8080/"
        },
        "id": "jkqeMv6mAZeH",
        "outputId": "fe1b6715-5cdc-4d60-890e-bcc6c7687993"
      },
      "execution_count": 14,
      "outputs": [
        {
          "output_type": "stream",
          "name": "stderr",
          "text": [
            "2022-04-05 09:16:03.517 INFO    pyngrok.process: Killing ngrok process: 356\n"
          ]
        }
      ]
    }
  ]
}